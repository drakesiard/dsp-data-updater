{
 "cells": [
  {
   "cell_type": "markdown",
   "id": "57874e2f-9adb-408b-8d9f-4b8bb27a8340",
   "metadata": {},
   "source": [
    "Wiki data can be found at:\n",
    "\n",
    "https://dyson-sphere-program.fandom.com/wiki/Module:Recipe/Data?action=raw"
   ]
  },
  {
   "cell_type": "code",
   "execution_count": 2,
   "id": "d62627ab-0c94-4e2d-a69e-4f344a5df10d",
   "metadata": {
    "tags": []
   },
   "outputs": [],
   "source": [
    "import json\n",
    "import pandas as pd\n",
    "import os\n",
    "\n",
    "from slpp import slpp as lua"
   ]
  },
  {
   "cell_type": "code",
   "execution_count": null,
   "id": "c06a221a-2a94-40db-a0ba-85b90ffa141f",
   "metadata": {},
   "outputs": [],
   "source": []
  },
  {
   "cell_type": "code",
   "execution_count": null,
   "id": "1fcdbef6-0b36-4b7d-859f-195df2daed42",
   "metadata": {},
   "outputs": [],
   "source": [
    "with open('../../factoriolab/src/data/dsp/data.json', 'rt') as fd:\n",
    "    lab_data = json.load(fd)\n",
    "with open('../data/data.dump.json', 'wt') as fd:\n",
    "    json.dump(lab_data, fd, separators=(',', ':'))"
   ]
  },
  {
   "cell_type": "code",
   "execution_count": null,
   "id": "c83d013f-b90e-4e04-9657-4a8c1ec82afc",
   "metadata": {},
   "outputs": [],
   "source": [
    "lab_data.keys()"
   ]
  },
  {
   "cell_type": "code",
   "execution_count": null,
   "id": "a635d5e8-8737-45c4-865d-c17c6eea8924",
   "metadata": {},
   "outputs": [],
   "source": [
    "lab_data['version']"
   ]
  },
  {
   "cell_type": "code",
   "execution_count": null,
   "id": "91aba3c4-4658-4cdd-a244-e14c0a675177",
   "metadata": {},
   "outputs": [],
   "source": [
    "path = '/home/drake/workspace/factoriolab/src/data/dsp/'\n",
    "for name in ['data.json', 'data.dump.json']:\n",
    "    file = os.path.join(path, name)\n",
    "    with open(file, 'r') as infile, open(file+'.split', 'w') as outfile:\n",
    "        outfile.write(infile.read().replace(',', '\\n'))"
   ]
  },
  {
   "cell_type": "code",
   "execution_count": null,
   "id": "b668fe97-08c6-4ecf-861b-1677ae5effbb",
   "metadata": {},
   "outputs": [],
   "source": [
    "with open('/mnt/c/Temp/data.txt', 'rt') as fd:\n",
    "    wiki_data = lua.decode(fd.read().replace('return', ''))"
   ]
  },
  {
   "cell_type": "code",
   "execution_count": null,
   "id": "a1322e5b-e46c-4a81-98f8-c616b72ddbce",
   "metadata": {},
   "outputs": [],
   "source": [
    "wiki_data.keys()"
   ]
  },
  {
   "cell_type": "code",
   "execution_count": null,
   "id": "8ac5e378-8bbc-4300-bd33-0ee8385ca7df",
   "metadata": {},
   "outputs": [],
   "source": [
    "next(wiki_data['game_recipes'].__iter__())"
   ]
  },
  {
   "cell_type": "code",
   "execution_count": null,
   "id": "ea786fe1-07a0-4538-93be-622190063097",
   "metadata": {},
   "outputs": [],
   "source": [
    "next(lab_data['recipes'].__iter__())\n",
    "\n",
    "wiki_recipes = {x['name']:x for x in wiki_data['game_recipes']}\n",
    "lab_recipes = {x['name']:x for x in lab_data['recipes']}\n",
    "\n",
    "for wiki_name, wiki_recipe in wiki_recipes.items():\n",
    "    if wiki_name not in lab_recipes:\n",
    "        print(wiki_recipe)"
   ]
  }
 ],
 "metadata": {
  "kernelspec": {
   "display_name": "Python 3 (ipykernel)",
   "language": "python",
   "name": "python3"
  },
  "language_info": {
   "codemirror_mode": {
    "name": "ipython",
    "version": 3
   },
   "file_extension": ".py",
   "mimetype": "text/x-python",
   "name": "python",
   "nbconvert_exporter": "python",
   "pygments_lexer": "ipython3",
   "version": "3.10.6"
  }
 },
 "nbformat": 4,
 "nbformat_minor": 5
}
