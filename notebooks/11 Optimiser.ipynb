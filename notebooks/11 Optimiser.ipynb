{
 "cells": [
  {
   "cell_type": "code",
   "execution_count": 6,
   "id": "d62627ab-0c94-4e2d-a69e-4f344a5df10d",
   "metadata": {
    "tags": []
   },
   "outputs": [],
   "source": [
    "import json\n",
    "import pandas as pd\n",
    "import os\n",
    "from copy import deepcopy\n",
    "from slpp import slpp as lua"
   ]
  },
  {
   "cell_type": "code",
   "execution_count": 32,
   "id": "1fcdbef6-0b36-4b7d-859f-195df2daed42",
   "metadata": {},
   "outputs": [],
   "source": [
    "with open('../data/data.json', 'rt') as fd:\n",
    "    orig_data = json.load(fd)\n",
    "with open('../data/data.old.raw.json', 'wt') as fd:\n",
    "    json.dump(orig_data, fd, separators=(',', ':'))\n",
    "with open('../data/data.old.pretty.json', 'wt') as fd:\n",
    "    json.dump(orig_data, fd, separators=(',\\n', ':'))\n",
    "lab_data = deepcopy(orig_data)"
   ]
  },
  {
   "cell_type": "code",
   "execution_count": 29,
   "id": "b668fe97-08c6-4ecf-861b-1677ae5effbb",
   "metadata": {},
   "outputs": [],
   "source": [
    "with open('../data/Data', 'rt') as fd:\n",
    "    wiki_data = lua.decode(fd.read().replace('return', ''))"
   ]
  },
  {
   "cell_type": "code",
   "execution_count": 30,
   "id": "72c37478-31ab-4272-9174-4f48571d6405",
   "metadata": {
    "tags": []
   },
   "outputs": [
    {
     "data": {
      "text/plain": [
       "[{'category': 'components',\n",
       "  'id': 'hyper-magnetism-ring',\n",
       "  'name': 'Super-magnetic ring',\n",
       "  'row': 5,\n",
       "  'stack': 50}]"
      ]
     },
     "execution_count": 30,
     "metadata": {},
     "output_type": "execute_result"
    }
   ],
   "source": [
    "[x for x in lab_data['items'] if 'ring' in x['name'].lower()]"
   ]
  },
  {
   "cell_type": "code",
   "execution_count": 31,
   "id": "e625fdc6-8393-429a-82cb-f141f877f8be",
   "metadata": {
    "tags": []
   },
   "outputs": [
    {
     "data": {
      "text/plain": [
       "[{'id': 'hyper-magnetism-ring',\n",
       "  'name': 'Super-magnetic ring',\n",
       "  'time': 3,\n",
       "  'in': {'mag-turbine': 2, 'magnet': 3, 'graphite': 1},\n",
       "  'out': {'hyper-magnetism-ring': 1},\n",
       "  'producers': ['assembler-1', 'assembler-2', 'assembler-3'],\n",
       "  'row': 5,\n",
       "  'category': 'components'}]"
      ]
     },
     "execution_count": 31,
     "metadata": {},
     "output_type": "execute_result"
    }
   ],
   "source": [
    "[x for x in lab_data['recipes'] if 'ring' in x['name'].lower()]"
   ]
  },
  {
   "cell_type": "code",
   "execution_count": 21,
   "id": "2d9d8d1e-7e78-4263-a7b3-19aee7be64dc",
   "metadata": {
    "tags": []
   },
   "outputs": [
    {
     "data": {
      "text/plain": [
       "{1205: {'name': 'Super-Magnetic Ring',\n",
       "  'type': 'COMPONENT',\n",
       "  'grid_index': 1604,\n",
       "  'stack_size': 100,\n",
       "  'description': 'Super magnetic field generating device. Generated super-strong magnetic field can directly act on the atomic scale, causing the distortion of the material lattice, thereby preparing high-performance materials and devices.'}}"
      ]
     },
     "execution_count": 21,
     "metadata": {},
     "output_type": "execute_result"
    }
   ],
   "source": [
    "{k:v for k, v in wiki_data['game_items'].items() if 'ring' in v['name'].lower()}"
   ]
  },
  {
   "cell_type": "code",
   "execution_count": 25,
   "id": "8ac5e378-8bbc-4300-bd33-0ee8385ca7df",
   "metadata": {},
   "outputs": [
    {
     "data": {
      "text/plain": [
       "[{'id': 103,\n",
       "  'name': 'Super-Magnetic Ring',\n",
       "  'type': 'ASSEMBLE',\n",
       "  'outputs': [1205, 1],\n",
       "  'inputs': [1204, 2, 1102, 3, 1109, 1],\n",
       "  'grid_index': 1502,\n",
       "  'handcraft': True,\n",
       "  'seconds': 3}]"
      ]
     },
     "execution_count": 25,
     "metadata": {},
     "output_type": "execute_result"
    }
   ],
   "source": [
    "[x for x in wiki_data['game_recipes'] if 'ring' in x['name'].lower()]"
   ]
  },
  {
   "cell_type": "code",
   "execution_count": null,
   "id": "60a1f05f-c1c1-4042-bcb1-5eb2db50bf5e",
   "metadata": {},
   "outputs": [],
   "source": [
    "wiki_recipes_by_name = {x['name']:x for x in wiki_data['game_recipes']}\n",
    "lab_recipes_by_name = {x['name']:x for x in lab_data['recipes']}\n",
    "lab_recipes_by_id = {x['id']:x for x in lab_data['recipes']}\n",
    "recipes_by_product = defaultdict(list)\n",
    "for id, r in lab_recipes_by_id.items():\n",
    "    for o in r['out'].keys():\n",
    "        recipes_by_product[o].append(id)"
   ]
  },
  {
   "cell_type": "code",
   "execution_count": null,
   "id": "a66f0abf-1c81-4f5f-b9b6-aa2f8b29b2eb",
   "metadata": {},
   "outputs": [],
   "source": [
    "product_queue = set()\n",
    "product_set = set()\n",
    "recipe_set = set()\n",
    "product_queue.add('magnetism-wire')\n",
    "while product_queue:\n",
    "    prod_id = product_queue.pop()\n",
    "    product_set.add(prod_id)\n",
    "    for r_id in recipes_by_product[prod_id]:\n",
    "        recipe_set.add(r_id)\n",
    "        for in_id in lab_recipes_by_id[r_id]['in'].keys():\n",
    "            if in_id not in product_set:\n",
    "                product_queue.add(in_id)"
   ]
  },
  {
   "cell_type": "code",
   "execution_count": null,
   "id": "c0c16a5c-22c4-4d2c-bf25-cf2f7c6d9e72",
   "metadata": {},
   "outputs": [],
   "source": [
    "with open('../data/data.new.raw.json', 'wt') as fd:\n",
    "    json.dump(lab_data, fd, separators=(',', ':'))\n",
    "with open('../data/data.new.pretty.json', 'wt') as fd:\n",
    "    json.dump(lab_data, fd, separators=(',\\n', ':'))"
   ]
  }
 ],
 "metadata": {
  "kernelspec": {
   "display_name": "Python 3 (ipykernel)",
   "language": "python",
   "name": "python3"
  },
  "language_info": {
   "codemirror_mode": {
    "name": "ipython",
    "version": 3
   },
   "file_extension": ".py",
   "mimetype": "text/x-python",
   "name": "python",
   "nbconvert_exporter": "python",
   "pygments_lexer": "ipython3",
   "version": "3.10.6"
  }
 },
 "nbformat": 4,
 "nbformat_minor": 5
}
